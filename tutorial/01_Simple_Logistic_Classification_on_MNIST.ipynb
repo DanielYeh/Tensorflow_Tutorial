{
 "cells": [
  {
   "cell_type": "markdown",
   "metadata": {},
   "source": [
    "## Tensorflow Tutorial 1: Simple Logistic Classification on MNIST\n",
    "\n",
    "初次學習Tensorflow最困難的地方莫過於不知道從何下手，已經學會很多的Deep Learning理論，但是要自己使用Tensorflow將Network建起來卻是非常困難的，這篇文章我會先簡單的介紹幾個Tensorflow的概念，最後利用這些概念建立一個簡單的分類模型。\n",
    "\n",
    "本單元程式碼可於[Github]( https://github.com/GitYCC/Tensorflow_Tutorial/blob/master/code/01_simple_logistic_classification_on_MNIST.py)下載。"
   ]
  },
  {
   "cell_type": "code",
   "execution_count": null,
   "metadata": {},
   "outputs": [],
   "source": [
    "import numpy as np\n",
    "import tensorflow as tf\n",
    "import matplotlib.pyplot as plt\n",
    "\n",
    "# Config the matplotlib backend as plotting inline in IPython\n",
    "%matplotlib inline"
   ]
  },
  {
   "cell_type": "markdown",
   "metadata": {},
   "source": [
    "### MNIST Dataset\n",
    "\n",
    "首先，先`import`一些會用到的function，並且定義`summary` function以便於觀察ndarray。"
   ]
  },
  {
   "cell_type": "code",
   "execution_count": 1,
   "metadata": {},
   "outputs": [],
   "source": [
    "def summary(ndarr):\n",
    "    print(ndarr)\n",
    "    print('* shape: {}'.format(ndarr.shape))\n",
    "    print('* min: {}'.format(np.min(ndarr)))\n",
    "    print('* max: {}'.format(np.max(ndarr)))\n",
    "    print('* avg: {}'.format(np.mean(ndarr)))\n",
    "    print('* std: {}'.format(np.std(ndarr)))\n",
    "    print('* unique: {}'.format(np.unique(ndarr)))"
   ]
  },
  {
   "cell_type": "markdown",
   "metadata": {},
   "source": [
    "ndarray是numpy的基本元素，它非常便於我們做矩陣的運算。\n",
    "\n",
    "我們使用MNIST Dataset來當作我們練習的標的，MNIST包含一包手寫數字的圖片，每張圖片大小為28x28，每一張圖片都是一個手寫的阿拉伯數字包含0到9，並且標記上它所對應的數字。我們的目標就是要利用MNIST做到手寫數字辨識。\n",
    "\n",
    "在Tensorflow你可以很簡單的得到「處理過後的」MNIST，只要利用以下程式碼，"
   ]
  },
  {
   "cell_type": "code",
   "execution_count": 2,
   "metadata": {},
   "outputs": [
    {
     "name": "stdout",
     "output_type": "stream",
     "text": [
      "Extracting MNIST_data/train-images-idx3-ubyte.gz\n",
      "Extracting MNIST_data/train-labels-idx1-ubyte.gz\n",
      "Extracting MNIST_data/t10k-images-idx3-ubyte.gz\n",
      "Extracting MNIST_data/t10k-labels-idx1-ubyte.gz\n"
     ]
    }
   ],
   "source": [
    "from tensorflow.examples.tutorials.mnist import input_data\n",
    "mnist = input_data.read_data_sets('MNIST_data/', one_hot=True)\n",
    "\n",
    "train_data = mnist.train\n",
    "valid_data = mnist.validation\n",
    "test_data = mnist.test"
   ]
  },
  {
   "cell_type": "markdown",
   "metadata": {},
   "source": [
    "每個`train_data`、`valid_data`、`test_data`都包含兩部分：圖片和標籤。\n",
    "\n",
    "我們來看一下圖片的部分，`train_data.images`一共有55000張圖，每一張圖原本大小是28x28，不過特別注意這裡的Data已經先做過預先處理了，因此圖片已經被打平成28x28=784的一維矩陣了，另外每個Pixel的值也先做過「Normalization」了，通常會這樣處理，每個值減去128再除以128，所以你可以從以下的`summary`中看到它的最大最小值落在0到1之間，還有這個Dataset也已經做過亂數重排了。"
   ]
  },
  {
   "cell_type": "code",
   "execution_count": 3,
   "metadata": {},
   "outputs": [
    {
     "name": "stdout",
     "output_type": "stream",
     "text": [
      "[[ 0.  0.  0. ...,  0.  0.  0.]\n",
      " [ 0.  0.  0. ...,  0.  0.  0.]\n",
      " [ 0.  0.  0. ...,  0.  0.  0.]\n",
      " ..., \n",
      " [ 0.  0.  0. ...,  0.  0.  0.]\n",
      " [ 0.  0.  0. ...,  0.  0.  0.]\n",
      " [ 0.  0.  0. ...,  0.  0.  0.]]\n",
      "* shape: (55000, 784)\n",
      "* min: 0.0\n",
      "* max: 1.0\n",
      "* avg: 0.13070042431354523\n",
      "* std: 0.30815958976745605\n",
      "* unique: [ 0.          0.00392157  0.00784314  0.01176471  0.01568628  0.01960784\n",
      "  0.02352941  0.02745098  0.03137255  0.03529412  0.03921569  0.04313726\n",
      "  0.04705883  0.0509804   0.05490196  0.05882353  0.0627451   0.06666667\n",
      "  0.07058824  0.07450981  0.07843138  0.08235294  0.08627451  0.09019608\n",
      "  0.09411766  0.09803922  0.10196079  0.10588236  0.10980393  0.1137255\n",
      "  0.11764707  0.12156864  0.1254902   0.12941177  0.13333334  0.13725491\n",
      "  0.14117648  0.14509805  0.14901961  0.15294118  0.15686275  0.16078432\n",
      "  0.16470589  0.16862746  0.17254902  0.17647059  0.18039216  0.18431373\n",
      "  0.18823531  0.19215688  0.19607845  0.20000002  0.20392159  0.20784315\n",
      "  0.21176472  0.21568629  0.21960786  0.22352943  0.227451    0.23137257\n",
      "  0.23529413  0.2392157   0.24313727  0.24705884  0.25098041  0.25490198\n",
      "  0.25882354  0.26274511  0.26666668  0.27058825  0.27450982  0.27843139\n",
      "  0.28235295  0.28627452  0.29019609  0.29411766  0.29803923  0.3019608\n",
      "  0.30588236  0.30980393  0.3137255   0.31764707  0.32156864  0.32549021\n",
      "  0.32941177  0.33333334  0.33725491  0.34117648  0.34509805  0.34901962\n",
      "  0.35294119  0.35686275  0.36078432  0.36470589  0.36862746  0.37254903\n",
      "  0.37647063  0.38039219  0.38431376  0.38823533  0.3921569   0.39607847\n",
      "  0.40000004  0.4039216   0.40784317  0.41176474  0.41568631  0.41960788\n",
      "  0.42352945  0.42745101  0.43137258  0.43529415  0.43921572  0.44313729\n",
      "  0.44705886  0.45098042  0.45490199  0.45882356  0.46274513  0.4666667\n",
      "  0.47058827  0.47450984  0.4784314   0.48235297  0.48627454  0.49019611\n",
      "  0.49411768  0.49803925  0.50196081  0.50588238  0.50980395  0.51372552\n",
      "  0.51764709  0.52156866  0.52549022  0.52941179  0.53333336  0.53725493\n",
      "  0.5411765   0.54509807  0.54901963  0.5529412   0.55686277  0.56078434\n",
      "  0.56470591  0.56862748  0.57254905  0.57647061  0.58039218  0.58431375\n",
      "  0.58823532  0.59215689  0.59607846  0.60000002  0.60392159  0.60784316\n",
      "  0.61176473  0.6156863   0.61960787  0.62352943  0.627451    0.63137257\n",
      "  0.63529414  0.63921571  0.64313728  0.64705884  0.65098041  0.65490198\n",
      "  0.65882355  0.66274512  0.66666669  0.67058825  0.67450982  0.67843139\n",
      "  0.68235296  0.68627453  0.6901961   0.69411767  0.69803923  0.7019608\n",
      "  0.70588237  0.70980394  0.71372551  0.71764708  0.72156864  0.72549021\n",
      "  0.72941178  0.73333335  0.73725492  0.74117649  0.74509805  0.74901962\n",
      "  0.75294125  0.75686282  0.76078439  0.76470596  0.76862752  0.77254909\n",
      "  0.77647066  0.78039223  0.7843138   0.78823537  0.79215693  0.7960785\n",
      "  0.80000007  0.80392164  0.80784321  0.81176478  0.81568635  0.81960791\n",
      "  0.82352948  0.82745105  0.83137262  0.83529419  0.83921576  0.84313732\n",
      "  0.84705889  0.85098046  0.85490203  0.8588236   0.86274517  0.86666673\n",
      "  0.8705883   0.87450987  0.87843144  0.88235301  0.88627458  0.89019614\n",
      "  0.89411771  0.89803928  0.90196085  0.90588242  0.90980399  0.91372555\n",
      "  0.91764712  0.92156869  0.92549026  0.92941183  0.9333334   0.93725497\n",
      "  0.94117653  0.9450981   0.94901967  0.95294124  0.95686281  0.96078438\n",
      "  0.96470594  0.96862751  0.97254908  0.97647065  0.98039222  0.98431379\n",
      "  0.98823535  0.99215692  0.99607849  1.        ]\n"
     ]
    }
   ],
   "source": [
    "summary(train_data.images)"
   ]
  },
  {
   "cell_type": "markdown",
   "metadata": {},
   "source": [
    "來試著畫圖來看看，我們使用ndarray的index功能來選出第10張圖片，`train_data.images[10,:]`表示的是選第一軸的第10個和第二軸的全部。"
   ]
  },
  {
   "cell_type": "code",
   "execution_count": 4,
   "metadata": {},
   "outputs": [],
   "source": [
    "def plot_fatten_img(ndarr):\n",
    "    img = ndarr.copy()\n",
    "    img.shape = (28,28)\n",
    "    plt.imshow(img, cmap='gray')\n",
    "    plt.show()"
   ]
  },
  {
   "cell_type": "code",
   "execution_count": 5,
   "metadata": {},
   "outputs": [
    {
     "data": {
      "image/png": "[encoded data removed]",
      "text/plain": [
       "<matplotlib.figure.Figure at 0x11aa1bda0>"
      ]
     },
     "metadata": {},
     "output_type": "display_data"
    }
   ],
   "source": [
    "plot_fatten_img(train_data.images[10,:])"
   ]
  },
  {
   "cell_type": "markdown",
   "metadata": {},
   "source": [
    "很顯而易見的，這是一個0。\n",
    "\n",
    "接下來來看標籤的部分，`train_data.labels`不意外的一樣的也是有相應的55000筆資料，所對應的就是前面的每一張圖片，總共有10種類型:0到9，所以大小為(55000, 10)。"
   ]
  },
  {
   "cell_type": "code",
   "execution_count": 6,
   "metadata": {},
   "outputs": [
    {
     "name": "stdout",
     "output_type": "stream",
     "text": [
      "[[ 0.  0.  0. ...,  1.  0.  0.]\n",
      " [ 0.  0.  0. ...,  0.  0.  0.]\n",
      " [ 0.  0.  0. ...,  0.  0.  0.]\n",
      " ..., \n",
      " [ 0.  0.  0. ...,  0.  0.  0.]\n",
      " [ 0.  0.  0. ...,  0.  0.  0.]\n",
      " [ 0.  0.  0. ...,  0.  1.  0.]]\n",
      "* shape: (55000, 10)\n",
      "* min: 0.0\n",
      "* max: 1.0\n",
      "* avg: 0.1\n",
      "* std: 0.30000000000000004\n",
      "* unique: [ 0.  1.]\n"
     ]
    }
   ],
   "source": [
    "summary(train_data.labels)"
   ]
  },
  {
   "cell_type": "markdown",
   "metadata": {},
   "source": [
    "所以我們來看看上面那張圖片的標籤，"
   ]
  },
  {
   "cell_type": "code",
   "execution_count": 7,
   "metadata": {},
   "outputs": [
    {
     "name": "stdout",
     "output_type": "stream",
     "text": [
      "[ 1.  0.  0.  0.  0.  0.  0.  0.  0.  0.]\n"
     ]
    }
   ],
   "source": [
    "print(train_data.labels[10])"
   ]
  },
  {
   "cell_type": "markdown",
   "metadata": {},
   "source": [
    "看起來的確沒錯，在0的位置標示1.，而其他地方標示為0.，因此這是一個標示為0的label沒有錯，這種表示方法稱為One-Hot Encoding，它具有機率的涵義，所代表的是有100%的機會落在0的類別上。\n",
    "\n",
    "### Softmax\n",
    "\n",
    "通常One-Hot Encoding會搭配Softmax一同服用，最後的Output結果如果是機率分布，那我也需要讓我的Neurel Network可以輸出機率分布。\n",
    "\n",
    "![softmax](https://raw.githubusercontent.com/GitYCC/Tensorflow_Tutorial/master/img/TensorflowTutorial.001.jpeg)\n",
    "\n",
    "通過Softmax這一層，我們就可以將輸出轉變為以「機率」表示。\n",
    "\n",
    "我們可以來手刻一個Softmax Function，不過直接套用Tensorflow中函數的也是可以的。"
   ]
  },
  {
   "cell_type": "code",
   "execution_count": 23,
   "metadata": {},
   "outputs": [
    {
     "name": "stdout",
     "output_type": "stream",
     "text": [
      "[ 0.8360188   0.11314284  0.05083836]\n"
     ]
    }
   ],
   "source": [
    "import numpy as np\n",
    "\n",
    "def softmax(x):\n",
    "    # avoid exp function go to too large,\n",
    "    # pre-reduce before applying exp function\n",
    "    max_score = np.max(x, axis=0)\n",
    "    x = x - max_score\n",
    "    \n",
    "    exp_s = np.exp(x)\n",
    "    sum_exp_s = np.sum(exp_s, axis=0)\n",
    "    softmax = exp_s / sum_exp_s\n",
    "    return softmax\n",
    "\n",
    "scores = [3.0, 1.0, 0.2]\n",
    "print(softmax(scores))"
   ]
  },
  {
   "cell_type": "markdown",
   "metadata": {},
   "source": [
    "### Cross-Entropy Loss\n",
    "\n",
    "一旦我們要處理機率預測的問題，就不可以使用單純的「平方誤差」，而必須使用Cross-Entropy Loss，是這樣計算的：\n",
    "\n",
    "Cross-Entropy Loss = -𝚺<sub>i</sub> y<sub>i</sub> ln[ s<sub>i</sub> ]\n",
    "\n",
    "其中，y<sub>i</sub>為目標Label，s<sub>i</sub>為經過Softmax產生的預測值。\n",
    "\n",
    "至於如果你想要了解為何需要使用Cross-Entropy Loss？這我在機器學習基石的筆記中已經有提及過，請看[介紹Logistic Regression的部分](http://www.ycc.idv.tw/YCNote/post/27)。\n",
    "\n",
    "### 分離數據的重要性\n",
    "\n",
    "在MNIST Dataset中，你會發現分為Training Dataset、Validation Dataset和Testing Dataset，這樣的作法在Machine Learning中是常見且必要的。\n",
    "\n",
    "流程是這樣的，我們會先使用Training Dataset來訓練Model，並且使用Validation Dataset來檢驗Model的好壞，我們會依據Validation Dataset的檢驗調整Model上的參數，試著盡可能的壓低Validation Dataset的Error，記住！在過程中所產生的所有Models都要保留下來，因為最後選擇的Model並不是Validation Dataset的Error最小的，而是要再由Testing Dataset來做最後的挑選，挑選出能使Testing Dataset的Error最小的Model。\n",
    "\n",
    "這所有的作法都是為了避免Overfitting的情況發生，也就是機器可能因為看過一筆Data，結果就把這筆Data給完整記了起來，而Data本身含有雜訊，雜訊就這樣滲透到Model裡，確實做到分離是很重要的，讓Model在測試階段時可以使用沒有看過的Data。\n",
    "\n",
    "因此，Validation Dataset的分離是為了避免讓Model在Training階段看到要驗證的資料，所以更能正確的評估Model的好壞。但這樣是不夠的，人為會根據Validation Dataset來調整Model，這樣無形之中已經將Validation Dataset的資訊間接的經由人傳給了Model，所以還是沒有徹底分離，因此在最後挑選Models時，我們會使用另外一筆從沒看過的資料Testing Dataset來做挑選，一旦挑選完就不能再去調整任何參數了。\n",
    "\n",
    "\n",
    "### Tensorflow工作流程\n",
    "\n",
    "我們這一篇將會使用Tensorflow實作最簡單的單層Neurel Network，在這之前我們來看看Tensorflow是如何運作的？\n",
    "\n",
    "深度學習是由一層一層可以微分的神經元所連接而成，數學上可以表示為張量(Tensor)的表示式，我們一般講的矩陣運算是指2x2的矩陣運算，而張量(Tensor)則是拓寬到n維陣列做計算，在Machine Learning當中我們常常需要處理到相當高維度的計算，例如：有五張28x28的彩色圖的表示就必須使用到四維張量，第一維表示第幾張、第二、三維表示圖片的大小、第四維則表示RGB，如果你是物理系的學生應該也對張量不陌生，廣義相對論裡頭大量的使用四維張量運算，三維空間加一維時間。\n",
    "\n",
    "而在做Neurel Network時，我們會根據需求不同設計不同形式但合理的流程(Flow)，再使用數據來訓練我的Model。所以，這就是Tensorflow命名由來：Tensor+Flow。\n",
    "\n",
    "因此，一開始要先設計Model的結構，這在Tensorflow裡頭稱為Graph，Graph的作用是事先決定Neurel Network的結構，決定Neuron要怎麼連接？決定哪一些窗口是可以由外部置放數據的？決定哪一些變數是可以被訓練的？哪一些變數是不可以被訓練的？定義將要怎麼樣優化這個系統？...等等。"
   ]
  },
  {
   "cell_type": "code",
   "execution_count": null,
   "metadata": {},
   "outputs": [],
   "source": [
    "my_graph = tf.Graph() # Initialize a new graph\n",
    "\n",
    "with my_graph.as_default(): # Create a scope to build graph\n",
    "    # ...\n",
    "    # detail of building graph"
   ]
  },
  {
   "cell_type": "markdown",
   "metadata": {},
   "source": [
    "Graph只是一個結構，它不具有有效的資訊，而當我們定義完成Graph之後，接下來我們需要創造一個環境叫做Session，Session會將Graph的結構複製一份，然後再放入資訊進行Training或是預測等等，因此Session是具有有效資訊的。"
   ]
  },
  {
   "cell_type": "code",
   "execution_count": null,
   "metadata": {},
   "outputs": [],
   "source": [
    "with tf.Session(graph=my_graph) as sess: # Copy graph into session\n",
    "    # ...\n",
    "    # detail of doing machine learning  "
   ]
  },
  {
   "cell_type": "markdown",
   "metadata": {},
   "source": [
    "還有另外一種寫法也是相同作用的，我個人比較喜歡下面這種寫法。"
   ]
  },
  {
   "cell_type": "code",
   "execution_count": null,
   "metadata": {},
   "outputs": [],
   "source": [
    "my_session = tf.Session(graph=my_graph)\n",
    "my_session.run(...)"
   ]
  },
  {
   "cell_type": "markdown",
   "metadata": {},
   "source": [
    "### Tensorflow的基本「張量」元素\n",
    "\n",
    "接下來我們就來看看有哪些構成Graph的基本元素可以使用。\n",
    "\n",
    "(1) 常數張量：\n",
    "\n",
    "一開始來看看「常數張量」，常數指的是在Model中不會改變的數值。"
   ]
  },
  {
   "cell_type": "code",
   "execution_count": 9,
   "metadata": {},
   "outputs": [],
   "source": [
    "tensor = tf.constant([1, 2, 3, 4, 5, 6, 7], dtype=tf.int32)"
   ]
  },
  {
   "cell_type": "markdown",
   "metadata": {},
   "source": [
    "(2) 變數張量：\n",
    "\n",
    "與常數截然不同的就是變數，「變數張量」是指在訓練當中可以改變的值，一般「變數張量」會用作於Machine Learning需要被訓練的參數，如果你沒有特別設定，在最佳化的過程中，Tensorflow會自動調整「變數張量」的數值來最佳化。"
   ]
  },
  {
   "cell_type": "code",
   "execution_count": 10,
   "metadata": {},
   "outputs": [],
   "source": [
    "tensor = tf.Variable(tf.truncated_normal(shape=(3, 5)))"
   ]
  },
  {
   "cell_type": "markdown",
   "metadata": {},
   "source": [
    "因為變數通常是未知且待優化的參數，所以我們一般會使用Initalizer來設定它的初始值，`tf.truncated_normal(shape=(3,5))`會隨機產生大小3x5的矩陣，它的值呈常態分佈但只取兩個標準差以內的數值。\n",
    "\n",
    "如果今天你想要有一個「變數張量」但是又不希望它因為最佳化而改變，這時你要特別指定`trainable`為`False`。"
   ]
  },
  {
   "cell_type": "code",
   "execution_count": 11,
   "metadata": {},
   "outputs": [],
   "source": [
    "tensor = tf.Variable(5, trainable=False)"
   ]
  },
  {
   "cell_type": "markdown",
   "metadata": {},
   "source": [
    "(3) 置放張量：\n",
    "\n",
    "另外有一些張量負責擔任輸入窗口的角色，稱為Placeholder。"
   ]
  },
  {
   "cell_type": "code",
   "execution_count": 12,
   "metadata": {},
   "outputs": [],
   "source": [
    "tensor = tf.placeholder(tf.float32, shape=(None, 1000))"
   ]
  },
  {
   "cell_type": "markdown",
   "metadata": {},
   "source": [
    "因為我們在訓練之前還尚未知道Data的數量，所以這裡使用None來表示未知。`tf.placeholder`在Graph階段是沒有數值的，必須等到Session階段才將數值給輸入進去。\n",
    "\n",
    "(4) 操作型張量：\n",
    "\n",
    "這類張量並不含有實際數值，而是一種操作，常用的「操作型張量」有兩種，第一種是作為最佳化使用，"
   ]
  },
  {
   "cell_type": "code",
   "execution_count": null,
   "metadata": {},
   "outputs": [],
   "source": [
    "loss = ...\n",
    "train_op = tf.train.GradientDescentOptimizer(learning_rate=0.5).minimize(loss)"
   ]
  },
  {
   "cell_type": "markdown",
   "metadata": {},
   "source": [
    "選擇Optimizer和最佳化的方式來定義最佳化的操作方法，上述的例子是使用learning_rate為0.5的Gradient Descent來降低loss。\n",
    "\n",
    "另外一種是初始化的操作，"
   ]
  },
  {
   "cell_type": "code",
   "execution_count": 13,
   "metadata": {},
   "outputs": [],
   "source": [
    "init_op = tf.global_variables_initializer()"
   ]
  },
  {
   "cell_type": "markdown",
   "metadata": {},
   "source": [
    "這一個步驟是必要的但常常被忽略，還記得剛剛我們定義「變數張量」時有用到Initalizer，這些Initalizer在Graph完成時還不具有數值，必須使用`init_op`來給予數值，所以記住一定要放`init_op`進去Graph裡頭，而且必須先定義完成所有會用到的Initalizer再來設定這個`init_op`。\n",
    "\n",
    "### Session的操作\n",
    "\n",
    "「張量」元素具有兩個面向：功能和數值，在Graph階段「張量」只具有功能但不具有數值，只有到了Session階段才開始有數值，那如何將這些數值取出來呢？有兩種方法，以1+1當作範例來看看，"
   ]
  },
  {
   "cell_type": "code",
   "execution_count": 14,
   "metadata": {},
   "outputs": [
    {
     "name": "stdout",
     "output_type": "stream",
     "text": [
      "Tensor(\"Add:0\", shape=(), dtype=int32)\n"
     ]
    }
   ],
   "source": [
    "g1 = tf.Graph()\n",
    "with g1.as_default():\n",
    "    x = tf.constant(1)\n",
    "    y = tf.constant(1)\n",
    "    sol = tf.add(x,y) # add x and y\n",
    "\n",
    "with tf.Session(graph=g1) as sess: \n",
    "    print(sol) # print tensor, not their value"
   ]
  },
  {
   "cell_type": "code",
   "execution_count": 15,
   "metadata": {},
   "outputs": [
    {
     "name": "stdout",
     "output_type": "stream",
     "text": [
      "2\n"
     ]
    }
   ],
   "source": [
    "with tf.Session(graph=g1) as sess: \n",
    "    print(sol.eval()) # evaluate their value"
   ]
  },
  {
   "cell_type": "code",
   "execution_count": 16,
   "metadata": {},
   "outputs": [
    {
     "name": "stdout",
     "output_type": "stream",
     "text": [
      "2\n"
     ]
    }
   ],
   "source": [
    "s1 = tf.Session(graph=g1)\n",
    "print(s1.run(sol)) # another way of evaluating value"
   ]
  },
  {
   "cell_type": "markdown",
   "metadata": {},
   "source": [
    "那如果我想使用placeholder來做到x+y呢？"
   ]
  },
  {
   "cell_type": "code",
   "execution_count": 17,
   "metadata": {},
   "outputs": [
    {
     "name": "stdout",
     "output_type": "stream",
     "text": [
      "5\n"
     ]
    }
   ],
   "source": [
    "g2 = tf.Graph()\n",
    "with g2.as_default():\n",
    "    x = tf.placeholder(tf.int32)\n",
    "    y = tf.placeholder(tf.int32)\n",
    "    sol = tf.add(x,y) # add x and y\n",
    "\n",
    "s2 = tf.Session(graph=g2)\n",
    "\n",
    "# if x = 2 and y = 3\n",
    "print(s2.run(sol, feed_dict={x: 2, y: 3})) "
   ]
  },
  {
   "cell_type": "code",
   "execution_count": 18,
   "metadata": {},
   "outputs": [
    {
     "name": "stdout",
     "output_type": "stream",
     "text": [
      "12\n"
     ]
    }
   ],
   "source": [
    "# if x = 5 and y = 7\n",
    "print(s2.run(sol, feed_dict={x: 5, y: 7})) "
   ]
  },
  {
   "cell_type": "markdown",
   "metadata": {},
   "source": [
    "因為x和y是placeholder，所以必須使用`feed_dict`來餵入相關資訊，否則會報錯。"
   ]
  },
  {
   "cell_type": "markdown",
   "metadata": {},
   "source": [
    "### 第一個Tensorflow Model\n",
    "\n",
    "有了以上的認識我們就可以來建立我們第一個Model。\n",
    "\n",
    "以下我會使用物件導向的寫法，讓程式碼更有條理。\n",
    "\n",
    "Machine Learning在操作上可以整理成三個大步驟：建構(Building)、訓練(Fitting)和推論(Inference)，所以我們將會使用這三大步驟來建製我們的Model。\n",
    "\n",
    "在`SimpleLogisticClassification`裡頭，「建構」的動作在`__init__`中會進行，由`build`函式來建立Graph，其中我將Neurel Network的結構分離存於`structure`裡。「訓練」的動作在`fit`中進行，這裡採用傳統的Gradient Descent的方法，將所有Data全部考慮進去最佳化，未來會再介紹Batch Gradient Descent。最後，「推論」的部分在`predict`和`evaluate`中進行。\n",
    "\n",
    "`SimpleLogisticClassification`將會建構一個只有一層的Neurel Network，也就是說沒有Hidden Layer，畫個圖。\n",
    "\n",
    "![Simple Logistic Classification](https://raw.githubusercontent.com/GitYCC/Tensorflow_Tutorial/master/img/TensorflowTutorial.002.jpeg)"
   ]
  },
  {
   "cell_type": "code",
   "execution_count": 21,
   "metadata": {},
   "outputs": [],
   "source": [
    "class SimpleLogisticClassification:\n",
    "\n",
    "    def __init__(self, n_features, n_labels, learning_rate=0.5):\n",
    "        self.n_features = n_features\n",
    "        self.n_labels = n_labels\n",
    "\n",
    "        self.weights = None\n",
    "        self.biases = None\n",
    "\n",
    "        self.graph = tf.Graph()  # initialize new graph\n",
    "        self.build(learning_rate)  # building graph\n",
    "        self.sess = tf.Session(graph=self.graph)  # create session by the graph\n",
    "\n",
    "    def build(self, learning_rate):\n",
    "        # Building Graph\n",
    "        with self.graph.as_default():\n",
    "            ### Input\n",
    "            self.train_features = tf.placeholder(tf.float32, shape=(None, self.n_features))\n",
    "            self.train_labels = tf.placeholder(tf.int32, shape=(None, self.n_labels))\n",
    "\n",
    "            ### Optimalization\n",
    "            # build neurel network structure and get their predictions and loss\n",
    "            self.y_, self.loss = self.structure(features=self.train_features,\n",
    "                                                labels=self.train_labels)\n",
    "            # define training operation\n",
    "            self.train_op = tf.train.GradientDescentOptimizer(learning_rate).minimize(self.loss)\n",
    "\n",
    "            ### Prediction\n",
    "            self.new_features = tf.placeholder(tf.float32, shape=(None, self.n_features))\n",
    "            self.new_labels = tf.placeholder(tf.int32, shape=(None, self.n_labels))\n",
    "            self.new_y_, self.new_loss = self.structure(features=self.new_features,\n",
    "                                                        labels=self.new_labels)\n",
    "\n",
    "            ### Initialization\n",
    "            self.init_op = tf.global_variables_initializer()\n",
    "\n",
    "    def structure(self, features, labels):\n",
    "        # build neurel network structure and return their predictions and loss\n",
    "        ### Variable\n",
    "        if (not self.weights) or (not self.biases):\n",
    "            self.weights = {\n",
    "                'fc1': tf.Variable(tf.truncated_normal(shape=(self.n_features, self.n_labels))),\n",
    "            }\n",
    "            self.biases = {\n",
    "                'fc1': tf.Variable(tf.zeros(shape=(self.n_labels))),\n",
    "            }\n",
    "\n",
    "        ### Structure\n",
    "        # one fully connected layer\n",
    "        logits = self.getDenseLayer(features, self.weights['fc1'], self.biases['fc1'])\n",
    "\n",
    "        # predictions\n",
    "        y_ = tf.nn.softmax(logits)\n",
    "\n",
    "        # loss: softmax cross entropy\n",
    "        loss = tf.reduce_mean(\n",
    "                 tf.nn.softmax_cross_entropy_with_logits(labels=labels, logits=logits))\n",
    "\n",
    "        return (y_, loss)\n",
    "\n",
    "    def getDenseLayer(self, input_layer, weight, bias, activation=None):\n",
    "        # fully connected layer\n",
    "        x = tf.add(tf.matmul(input_layer, weight), bias)\n",
    "        if activation:\n",
    "            x = activation(x)\n",
    "        return x\n",
    "\n",
    "    def fit(self, X, y, epochs=10, validation_data=None, test_data=None):\n",
    "        X = self._check_array(X)\n",
    "        y = self._check_array(y)\n",
    "\n",
    "        self.sess.run(self.init_op)\n",
    "        for epoch in range(epochs):\n",
    "            print('Epoch %2d/%2d: ' % (epoch+1, epochs))\n",
    "\n",
    "            # fully gradient descent\n",
    "            feed_dict = {self.train_features: X, self.train_labels: y}\n",
    "            self.sess.run(self.train_op, feed_dict=feed_dict)\n",
    "\n",
    "            # evaluate at the end of this epoch\n",
    "            y_ = self.predict(X)\n",
    "            train_loss = self.evaluate(X, y)\n",
    "            train_acc = self.accuracy(y_, y)\n",
    "            msg = ' loss = %8.4f, acc = %3.2f%%' % (train_loss, train_acc*100)\n",
    "\n",
    "            if validation_data:\n",
    "                val_loss = self.evaluate(validation_data[0], validation_data[1])\n",
    "                val_acc = self.accuracy(self.predict(validation_data[0]), validation_data[1])\n",
    "                msg += ', val_loss = %8.4f, val_acc = %3.2f%%' % (val_loss, val_acc*100)\n",
    "\n",
    "            print(msg)\n",
    "\n",
    "        if test_data:\n",
    "            test_acc = self.accuracy(self.predict(test_data[0]), test_data[1])\n",
    "            print('test_acc = %3.2f%%' % (test_acc*100))\n",
    "\n",
    "    def accuracy(self, predictions, labels):\n",
    "        return (np.sum(np.argmax(predictions, 1) == np.argmax(labels, 1))/predictions.shape[0])\n",
    "\n",
    "    def predict(self, X):\n",
    "        X = self._check_array(X)\n",
    "        return self.sess.run(self.new_y_, feed_dict={self.new_features: X})\n",
    "\n",
    "    def evaluate(self, X, y):\n",
    "        X = self._check_array(X)\n",
    "        y = self._check_array(y)\n",
    "        return self.sess.run(self.new_loss, feed_dict={self.new_features: X, self.new_labels: y})\n",
    "\n",
    "    def _check_array(self, ndarray):\n",
    "        ndarray = np.array(ndarray)\n",
    "        if len(ndarray.shape) == 1:\n",
    "            ndarray = np.reshape(ndarray, (1, ndarray.shape[0]))\n",
    "        return ndarray"
   ]
  },
  {
   "cell_type": "code",
   "execution_count": 22,
   "metadata": {},
   "outputs": [
    {
     "name": "stdout",
     "output_type": "stream",
     "text": [
      "Epoch  1/10: \n",
      " loss =   9.4080, acc = 12.45%, val_loss =   9.3869, val_acc = 12.78%\n",
      "Epoch  2/10: \n",
      " loss =   8.2898, acc = 14.57%, val_loss =   8.2863, val_acc = 14.66%\n",
      "Epoch  3/10: \n",
      " loss =   7.4517, acc = 16.82%, val_loss =   7.4578, val_acc = 16.74%\n",
      "Epoch  4/10: \n",
      " loss =   6.8298, acc = 19.23%, val_loss =   6.8352, val_acc = 19.10%\n",
      "Epoch  5/10: \n",
      " loss =   6.3458, acc = 21.83%, val_loss =   6.3448, val_acc = 21.12%\n",
      "Epoch  6/10: \n",
      " loss =   5.9372, acc = 24.16%, val_loss =   5.9287, val_acc = 23.64%\n",
      "Epoch  7/10: \n",
      " loss =   5.5760, acc = 26.53%, val_loss =   5.5604, val_acc = 25.98%\n",
      "Epoch  8/10: \n",
      " loss =   5.2527, acc = 28.88%, val_loss =   5.2306, val_acc = 28.42%\n",
      "Epoch  9/10: \n",
      " loss =   4.9624, acc = 31.05%, val_loss =   4.9344, val_acc = 30.54%\n",
      "Epoch 10/10: \n",
      " loss =   4.7012, acc = 33.06%, val_loss =   4.6681, val_acc = 32.52%\n",
      "test_acc = 32.77%\n"
     ]
    }
   ],
   "source": [
    "model = SimpleLogisticClassification(n_features=28*28, n_labels=10, learning_rate= 0.5)\n",
    "model.fit(\n",
    "    X=train_data.images,\n",
    "    y=train_data.labels,\n",
    "    epochs=10,\n",
    "    validation_data=(valid_data.images, valid_data.labels),\n",
    "    test_data=(test_data.images, test_data.labels),\n",
    ")"
   ]
  }
 ],
 "metadata": {
  "kernelspec": {
   "display_name": "Python 3",
   "language": "python",
   "name": "python3"
  },
  "language_info": {
   "codemirror_mode": {
    "name": "ipython",
    "version": 3
   },
   "file_extension": ".py",
   "mimetype": "text/x-python",
   "name": "python",
   "nbconvert_exporter": "python",
   "pygments_lexer": "ipython3",
   "version": "3.6.5"
  }
 },
 "nbformat": 4,
 "nbformat_minor": 2
}
