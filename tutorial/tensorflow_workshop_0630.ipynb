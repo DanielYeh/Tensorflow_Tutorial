{
 "cells": [
  {
   "cell_type": "markdown",
   "metadata": {},
   "source": [
    "# Tensorflow Workshop (2019/6/30)"
   ]
  },
  {
   "cell_type": "code",
   "execution_count": 1,
   "metadata": {},
   "outputs": [],
   "source": [
    "import tensorflow as tf\n",
    "from tensorflow import keras\n",
    "import numpy as np\n",
    "import matplotlib.pyplot as plt"
   ]
  },
  {
   "cell_type": "markdown",
   "metadata": {},
   "source": [
    "## python tutorial\n",
    "\n",
    "參考：https://www.w3schools.com/python/python_lists.asp\n",
    "\n",
    "* print: \n",
    "    * `print('Hello!')`\n",
    "    * `print('Art: %5d, Price: %8.2f' % (453, 59.058))`\n",
    "    * `print('Art: {0:5d}, Price: {1:8.2f}'.format(453, 59.058))`\n",
    "    * 參考：https://www.python-course.eu/python3_formatted_output.php\n",
    "* list\n",
    "* tuples\n",
    "* dictionaries\n",
    "* if ... elif ... else\n",
    "* while loop\n",
    "* for loop\n",
    "* function\n",
    "* class\n",
    "\n",
    "\n",
    "### Mission\n",
    "\n",
    "假設今天有一燈泡組，第一顆燈泡會接上電源，然後第一顆燈泡（序號為0）接上第二顆燈泡（序號為1），第二顆燈泡（序號為1）接上第三顆燈泡（序號為2），依序連接，總共有5顆燈泡。另外，每顆燈泡都有一個開關，開關打開代表導通，燈泡就有機會亮，但還需要兩個額外條件：第一，這顆燈泡已接上電源，第二，前一顆燈泡亮了（已導通），所以如果依照順序 `[2, 0, 3, 1, 4]` 的開啟燈泡，則燈泡組會有 `3` 階段的亮法，如下所示：\n",
    "\n",
    "```\n",
    "switch on: 2\n",
    "bulbs: _ _ _ _ _\n",
    "switch on: 0\n",
    "bulbs: * _ _ _ _\n",
    "switch on: 3\n",
    "bulbs: * _ _ _ _\n",
    "switch on: 1\n",
    "bulbs: * * * * _\n",
    "switch on: 4\n",
    "bulbs: * * * * *\n",
    "```\n",
    "\n",
    "請大家幫我利用以下的code把這個demo實作出來。"
   ]
  },
  {
   "cell_type": "code",
   "execution_count": null,
   "metadata": {},
   "outputs": [],
   "source": [
    "class Bulb:\n",
    "    def __init__(self, name):\n",
    "        self.name = name\n",
    "\n",
    "        self._connect_source = False\n",
    "        self._switch_on = False\n",
    "        self._prev = None\n",
    "        self._next = None\n",
    "    \n",
    "    def append(self, next_bulb):\n",
    "        self._next = next_bulb\n",
    "        next_bulb._prev = self\n",
    "    \n",
    "    def connect_source(self):\n",
    "        self._connect_source = True\n",
    "\n",
    "    def switch_on(self):\n",
    "        self._switch_on = True\n",
    "    \n",
    "    def is_light(self):\n",
    "        # 幫我在這邊實作出兩種情形要回傳True（亮）\n",
    "        # 第一種情況是，燈泡有接電源且開關打開\n",
    "        # 第二種情況是，前面接的燈泡有亮且開關打開\n",
    "        # hint: 記得檢查上一個燈泡是否存在\n",
    "        # answer here\n",
    "\n",
    "    \n",
    "def demo(order):\n",
    "    N = 5\n",
    "    bulbs = [Bulb(i) for i in range(N)]\n",
    "\n",
    "    # 幫我在這邊讓第一顆燈泡接上電源，並且串接各個燈泡成為燈泡組\n",
    "    # answer here\n",
    "\n",
    "    for j in order:\n",
    "        print('switch on: {0}'.format(j))\n",
    "        bulbs[j].switch_on()\n",
    "        light_status = ['*' if bulbs[i].is_light() else '_' for i in range(N)]\n",
    "        print('bulbs: {0}'.format(' '.join(light_status)))\n",
    "\n",
    "\n",
    "demo([2, 0, 3, 1, 4])\n",
    "\n",
    "### Correct Output\n",
    "# switch on: 2\n",
    "# bulbs: _ _ _ _ _\n",
    "# switch on: 0\n",
    "# bulbs: * _ _ _ _\n",
    "# switch on: 3\n",
    "# bulbs: * _ _ _ _\n",
    "# switch on: 1\n",
    "# bulbs: * * * * _\n",
    "# switch on: 4"
   ]
  },
  {
   "cell_type": "markdown",
   "metadata": {},
   "source": [
    "## Numpy tutorial\n",
    "\n",
    "參考：\n",
    "https://www.ycc.idv.tw/python-play-with-data_2.html  \n",
    "https://www.ycc.idv.tw/python-play-with-data_3.html\n",
    "\n",
    "\n",
    "### ndarray\n",
    "Numpy最重要的元素就是ndarray，它是N-Dimensional Array的縮寫，在Numpy裡，dimesions被稱為axes，而axes的數量被稱為rank，axes是一個重要的概念，了解這個概念基本上就把Numpy搞懂一半以上了。\n",
    "\n",
    "先來建立一個簡單的ndarray"
   ]
  },
  {
   "cell_type": "code",
   "execution_count": null,
   "metadata": {},
   "outputs": [],
   "source": [
    "A = np.array(\n",
    "    [\n",
    "        [\n",
    "            [1,2,3], [4,5,6]\n",
    "        ],\n",
    "        [\n",
    "            [7,8,9], [10,11,12]\n",
    "        ],\n",
    "    ]\n",
    ")\n",
    "A"
   ]
  },
  {
   "cell_type": "code",
   "execution_count": null,
   "metadata": {},
   "outputs": [],
   "source": [
    "A.shape"
   ]
  },
  {
   "cell_type": "markdown",
   "metadata": {},
   "source": [
    "下面這張圖可以幫助大家理解\n",
    "![](http://www.ycc.idv.tw/media/PlayDataWithPython/ndarray_axis.png)"
   ]
  },
  {
   "cell_type": "code",
   "execution_count": null,
   "metadata": {},
   "outputs": [],
   "source": [
    "np.sum(A, axis=None)  # axis為None的時候則加總所有元素"
   ]
  },
  {
   "cell_type": "code",
   "execution_count": null,
   "metadata": {},
   "outputs": [],
   "source": [
    "np.sum(A, axis=0)"
   ]
  },
  {
   "cell_type": "code",
   "execution_count": null,
   "metadata": {},
   "outputs": [],
   "source": [
    "np.sum(A, axis=1)"
   ]
  },
  {
   "cell_type": "code",
   "execution_count": null,
   "metadata": {},
   "outputs": [],
   "source": [
    "np.sum(A, axis=2)"
   ]
  },
  {
   "cell_type": "markdown",
   "metadata": {},
   "source": [
    "### reshape"
   ]
  },
  {
   "cell_type": "code",
   "execution_count": null,
   "metadata": {},
   "outputs": [],
   "source": [
    "B = np.array([[1,2],[3,4],[5,6]])\n",
    "B.shape"
   ]
  },
  {
   "cell_type": "markdown",
   "metadata": {},
   "source": [
    "`(3, 2)`這樣的shape我們就一點都不意外了，axis=0有三個元素，而axis=1有兩個元素。shape可以直接改，如果數量恰當的話就會自動重組。"
   ]
  },
  {
   "cell_type": "code",
   "execution_count": null,
   "metadata": {},
   "outputs": [],
   "source": [
    "B.shape = (2,1,3)\n",
    "B.shape"
   ]
  },
  {
   "cell_type": "code",
   "execution_count": null,
   "metadata": {},
   "outputs": [],
   "source": [
    "B"
   ]
  },
  {
   "cell_type": "markdown",
   "metadata": {},
   "source": [
    "axis=0有兩個元素，axis=1有一個元素，axis=2有三個元素。\n",
    "\n",
    "同樣的概念也可以用在取出單一元素上。"
   ]
  },
  {
   "cell_type": "code",
   "execution_count": null,
   "metadata": {},
   "outputs": [],
   "source": [
    "B[1, 0, 1]"
   ]
  },
  {
   "cell_type": "code",
   "execution_count": null,
   "metadata": {},
   "outputs": [],
   "source": [
    "B[0, 0, 2]"
   ]
  },
  {
   "cell_type": "markdown",
   "metadata": {},
   "source": [
    "在axis=0上選第二個元素(1)，在axis=1上選第一個元素(0)，在axis=2上選第二個元素(1)，所以選出來的元素就是5啦！\n",
    "\n",
    "### dtype\n",
    "\n",
    "ndarray有其資料型別，這個資料型別就稱為dtype，有哪些內建的資料型別呢？我們可以透過numpy的內建資料來查看。"
   ]
  },
  {
   "cell_type": "code",
   "execution_count": null,
   "metadata": {},
   "outputs": [],
   "source": [
    "np.sctypes"
   ]
  },
  {
   "cell_type": "markdown",
   "metadata": {},
   "source": [
    "有複數、浮點數、整數，另外每個資料型別還可以由資料的儲存容量大小來區分，例如：numpy.int32就代表是容量為32bits的整數。我們可以在設置ndarray的時候事先強迫設成某資料型別。"
   ]
  },
  {
   "cell_type": "code",
   "execution_count": null,
   "metadata": {},
   "outputs": [],
   "source": [
    "t1 = np.array([1, 2, 3], dtype='int32')\n",
    "t1"
   ]
  },
  {
   "cell_type": "code",
   "execution_count": null,
   "metadata": {},
   "outputs": [],
   "source": [
    "t1.dtype"
   ]
  },
  {
   "cell_type": "code",
   "execution_count": null,
   "metadata": {},
   "outputs": [],
   "source": [
    "t2 = np.array([1, 2, 3], dtype='float64')\n",
    "t2"
   ]
  },
  {
   "cell_type": "code",
   "execution_count": null,
   "metadata": {},
   "outputs": [],
   "source": [
    "t2.dtype"
   ]
  },
  {
   "cell_type": "markdown",
   "metadata": {},
   "source": [
    "### Numpy的矩陣運算\n",
    "\n",
    "有了ndarray就可以作矩陣的運算了，矩陣運算有兩種系統，一種是element-wise(元素方面) operation，一種是matrix operation。\n",
    "\n",
    "這樣講好像很抽象，我來解釋一下，element-wise operation就是每個元素獨立運算，例如，以下例子就是element-wise的相加。"
   ]
  },
  {
   "cell_type": "code",
   "execution_count": null,
   "metadata": {},
   "outputs": [],
   "source": [
    "A = np.array([[1, 2], [3, 4]], dtype='float64')\n",
    "B = np.array([[5, 0], [0, 0]], dtype='float64')\n",
    "A + B "
   ]
  },
  {
   "cell_type": "markdown",
   "metadata": {},
   "source": [
    "A和B矩陣中同樣位置的元素相加，再放到新的矩陣中，這一種操作就叫做element-wise operation。\n",
    "\n",
    "在numpy中如果沒有特別指定，所有的運算都是這類的運算，我們來看一下減、乘和除。"
   ]
  },
  {
   "cell_type": "code",
   "execution_count": null,
   "metadata": {},
   "outputs": [],
   "source": [
    "A - B"
   ]
  },
  {
   "cell_type": "code",
   "execution_count": null,
   "metadata": {},
   "outputs": [],
   "source": [
    "A * B"
   ]
  },
  {
   "cell_type": "code",
   "execution_count": null,
   "metadata": {},
   "outputs": [],
   "source": [
    "B / A"
   ]
  },
  {
   "cell_type": "markdown",
   "metadata": {},
   "source": [
    "那我如果想要作矩陣操作(matrix operation)呢？譬如說矩陣內積，"
   ]
  },
  {
   "cell_type": "code",
   "execution_count": null,
   "metadata": {},
   "outputs": [],
   "source": [
    "np.dot(A, B)"
   ]
  },
  {
   "cell_type": "markdown",
   "metadata": {},
   "source": [
    "還有更多的矩陣操作，\n",
    "\n",
    "矩陣轉置"
   ]
  },
  {
   "cell_type": "code",
   "execution_count": null,
   "metadata": {},
   "outputs": [],
   "source": [
    "A = np.array([[1, 2], [3, 4]], dtype='float64')\n",
    "A.T"
   ]
  },
  {
   "cell_type": "markdown",
   "metadata": {},
   "source": [
    "垂直方向合併"
   ]
  },
  {
   "cell_type": "code",
   "execution_count": null,
   "metadata": {},
   "outputs": [],
   "source": [
    "A = np.array([[1, 2], [3, 4]], dtype='float64')\n",
    "B = np.array([[5, 0], [0, 0]], dtype='float64')\n",
    "V = np.vstack((A, B))\n",
    "V"
   ]
  },
  {
   "cell_type": "markdown",
   "metadata": {},
   "source": [
    "水平方向合併"
   ]
  },
  {
   "cell_type": "code",
   "execution_count": null,
   "metadata": {},
   "outputs": [],
   "source": [
    "H = np.hstack((A, B))\n",
    "H"
   ]
  },
  {
   "cell_type": "markdown",
   "metadata": {},
   "source": [
    "## Machine Learning tutorial\n",
    "\n",
    "* loss function\n",
    "    * MSE (Mean Square Error)\n",
    "    * Cross-Entropy Loss\n",
    "* optimization\n",
    "    * grandient descent\n",
    "    * back propagation\n",
    "* overfitting\n",
    "    * validation\n",
    "    * regularization"
   ]
  },
  {
   "cell_type": "markdown",
   "metadata": {},
   "source": [
    "## 01_Simple_Logistic_Classification_on_MNIST"
   ]
  },
  {
   "cell_type": "code",
   "execution_count": 2,
   "metadata": {},
   "outputs": [],
   "source": [
    "fashion_mnist = keras.datasets.fashion_mnist\n",
    "\n",
    "(train_images, train_labels), (test_images, test_labels) = fashion_mnist.load_data()"
   ]
  },
  {
   "cell_type": "markdown",
   "metadata": {},
   "source": [
    "圖片是由28x28的NumPy arrays所構成，每個pixel值落在0到255之間。Labels則是有整數所構成，範圍從0到9，分別代表以下類別：\n",
    "\n",
    "<table>\n",
    "  <tr>\n",
    "    <th>Label</th>\n",
    "    <th>Class</th>\n",
    "  </tr>\n",
    "  <tr>\n",
    "    <td>0</td>\n",
    "    <td>T-shirt/top</td>\n",
    "  </tr>\n",
    "  <tr>\n",
    "    <td>1</td>\n",
    "    <td>Trouser</td>\n",
    "  </tr>\n",
    "    <tr>\n",
    "    <td>2</td>\n",
    "    <td>Pullover</td>\n",
    "  </tr>\n",
    "    <tr>\n",
    "    <td>3</td>\n",
    "    <td>Dress</td>\n",
    "  </tr>\n",
    "    <tr>\n",
    "    <td>4</td>\n",
    "    <td>Coat</td>\n",
    "  </tr>\n",
    "    <tr>\n",
    "    <td>5</td>\n",
    "    <td>Sandal</td>\n",
    "  </tr>\n",
    "    <tr>\n",
    "    <td>6</td>\n",
    "    <td>Shirt</td>\n",
    "  </tr>\n",
    "    <tr>\n",
    "    <td>7</td>\n",
    "    <td>Sneaker</td>\n",
    "  </tr>\n",
    "    <tr>\n",
    "    <td>8</td>\n",
    "    <td>Bag</td>\n",
    "  </tr>\n",
    "    <tr>\n",
    "    <td>9</td>\n",
    "    <td>Ankle boot</td>\n",
    "  </tr>\n",
    "</table>"
   ]
  },
  {
   "cell_type": "markdown",
   "metadata": {},
   "source": [
    "### Mission\n",
    "\n",
    "請問 `(train_images, train_labels), (test_images, test_labels)` 中的各個變數它們的 `shape` 各是？ 請問train部分的圖片有幾張？test部份的圖片有幾張？"
   ]
  },
  {
   "cell_type": "code",
   "execution_count": null,
   "metadata": {},
   "outputs": [],
   "source": []
  },
  {
   "cell_type": "markdown",
   "metadata": {},
   "source": [
    "### Mission\n",
    "麻煩幫我從 `(train_images, train_labels)` 中隨便印出一張Sneaker和Coat的圖片，並且將相應的Label數字給顯示出來。"
   ]
  },
  {
   "cell_type": "code",
   "execution_count": null,
   "metadata": {},
   "outputs": [],
   "source": []
  },
  {
   "cell_type": "markdown",
   "metadata": {},
   "source": [
    "做一些資料的前處理"
   ]
  },
  {
   "cell_type": "code",
   "execution_count": 3,
   "metadata": {},
   "outputs": [],
   "source": [
    "from sklearn.model_selection import train_test_split\n",
    "from sklearn.preprocessing import OneHotEncoder\n",
    "\n",
    "train_images.shape = (-1, 784)\n",
    "X_test = test_images.reshape((-1, 784))\n",
    "\n",
    "enc = OneHotEncoder(handle_unknown='ignore')\n",
    "enc.fit([[0, ], [1, ], [2, ], [3, ], [4, ], [5, ], [6, ], [7, ], [8, ], [9, ]])\n",
    "train_labels = enc.transform(train_labels.reshape((-1, 1))).toarray()\n",
    "y_test = enc.transform(test_labels.reshape((-1, 1))).toarray()\n",
    "\n",
    "X_train, X_valid, y_train, y_valid = train_test_split(train_images, train_labels, test_size=0.2)"
   ]
  },
  {
   "cell_type": "code",
   "execution_count": 6,
   "metadata": {},
   "outputs": [
    {
     "data": {
      "text/plain": [
       "((48000, 784),\n",
       " (12000, 784),\n",
       " (10000, 784),\n",
       " (48000, 10),\n",
       " (12000, 10),\n",
       " (10000, 10))"
      ]
     },
     "execution_count": 6,
     "metadata": {},
     "output_type": "execute_result"
    }
   ],
   "source": [
    "X_train.shape, X_valid.shape, X_test.shape, y_train.shape, y_valid.shape, y_test.shape"
   ]
  },
  {
   "cell_type": "code",
   "execution_count": null,
   "metadata": {},
   "outputs": [],
   "source": [
    "y_train[6]"
   ]
  },
  {
   "cell_type": "markdown",
   "metadata": {},
   "source": [
    "### Mission\n",
    "\n",
    "麻煩幫我使用 `(X_train, y_train)` 去訓練一個 Simple Logistic Classification，並且使用 `(X_valid, y_valid)` 去作validation，最後用 `(test_images, test_labels)` 來test出它的精確度。"
   ]
  },
  {
   "cell_type": "code",
   "execution_count": null,
   "metadata": {},
   "outputs": [],
   "source": []
  },
  {
   "cell_type": "markdown",
   "metadata": {},
   "source": [
    "## Tensorflow補充資訊\n",
    "\n",
    "loss\n",
    "https://www.tensorflow.org/api_docs/python/tf/losses\n",
    "\n",
    "optimizer\n",
    "https://www.tensorflow.org/api_docs/python/tf/train\n",
    "* search XXXOptimizer\n",
    "\n",
    "dtype\n",
    "https://www.tensorflow.org/api_docs/python/tf/dtypes/DType\n",
    "\n",
    "math\n",
    "https://www.tensorflow.org/api_docs/python/tf/math\n",
    "\n",
    "nn\n",
    "https://www.tensorflow.org/api_docs/python/tf/nn\n",
    "\n",
    "layers\n",
    "https://www.tensorflow.org/api_docs/python/tf/layers"
   ]
  }
 ],
 "metadata": {
  "kernelspec": {
   "display_name": "Python 3",
   "language": "python",
   "name": "python3"
  },
  "language_info": {
   "codemirror_mode": {
    "name": "ipython",
    "version": 3
   },
   "file_extension": ".py",
   "mimetype": "text/x-python",
   "name": "python",
   "nbconvert_exporter": "python",
   "pygments_lexer": "ipython3",
   "version": "3.6.5"
  }
 },
 "nbformat": 4,
 "nbformat_minor": 2
}
